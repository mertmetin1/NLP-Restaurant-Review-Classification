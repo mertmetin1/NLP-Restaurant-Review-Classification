{
 "cells": [
  {
   "cell_type": "code",
   "execution_count": 1,
   "id": "d85d2dea",
   "metadata": {
    "_cell_guid": "b1076dfc-b9ad-4769-8c92-a6c4dae69d19",
    "_uuid": "8f2839f25d086af736a60e9eeb907d3b93b6e0e5",
    "execution": {
     "iopub.execute_input": "2023-10-09T07:23:10.539415Z",
     "iopub.status.busy": "2023-10-09T07:23:10.538935Z",
     "iopub.status.idle": "2023-10-09T07:23:11.058383Z",
     "shell.execute_reply": "2023-10-09T07:23:11.056864Z"
    },
    "papermill": {
     "duration": 0.532457,
     "end_time": "2023-10-09T07:23:11.063472",
     "exception": false,
     "start_time": "2023-10-09T07:23:10.531015",
     "status": "completed"
    },
    "tags": []
   },
   "outputs": [
    {
     "name": "stdout",
     "output_type": "stream",
     "text": [
      "/kaggle/input/yelp-reviews/Restaurant_Reviews.csv\n",
      "/kaggle/input/yelp-reviews/Restaurant_Reviews_Preprocessed.csv\n"
     ]
    }
   ],
   "source": [
    "# This Python 3 environment comes with many helpful analytics libraries installed\n",
    "# It is defined by the kaggle/python Docker image: https://github.com/kaggle/docker-python\n",
    "# For example, here's several helpful packages to load\n",
    "\n",
    "import numpy as np # linear algebra\n",
    "import pandas as pd # data processing, CSV file I/O (e.g. pd.read_csv)\n",
    "\n",
    "# Input data files are available in the read-only \"../input/\" directory\n",
    "# For example, running this (by clicking run or pressing Shift+Enter) will list all files under the input directory\n",
    "\n",
    "import os\n",
    "for dirname, _, filenames in os.walk('/kaggle/input/yelp-reviews'):\n",
    "    for filename in filenames:\n",
    "        print(os.path.join(dirname, filename))\n",
    "\n",
    "# You can write up to 20GB to the current directory (/kaggle/working/) that gets preserved as output when you create a version using \"Save & Run All\" \n",
    "# You can also write temporary files to /kaggle/temp/, but they won't be saved outside of the current session"
   ]
  },
  {
   "cell_type": "markdown",
   "id": "acf3a672",
   "metadata": {
    "papermill": {
     "duration": 0.004393,
     "end_time": "2023-10-09T07:23:11.072855",
     "exception": false,
     "start_time": "2023-10-09T07:23:11.068462",
     "status": "completed"
    },
    "tags": []
   },
   "source": [
    "**# Gerekli kütüphaneleri içe aktarın**"
   ]
  },
  {
   "cell_type": "code",
   "execution_count": 2,
   "id": "51de2f26",
   "metadata": {
    "execution": {
     "iopub.execute_input": "2023-10-09T07:23:11.087440Z",
     "iopub.status.busy": "2023-10-09T07:23:11.085571Z",
     "iopub.status.idle": "2023-10-09T07:23:13.441231Z",
     "shell.execute_reply": "2023-10-09T07:23:13.439820Z"
    },
    "papermill": {
     "duration": 2.366212,
     "end_time": "2023-10-09T07:23:13.444056",
     "exception": false,
     "start_time": "2023-10-09T07:23:11.077844",
     "status": "completed"
    },
    "tags": []
   },
   "outputs": [],
   "source": [
    "\n",
    "import numpy as np\n",
    "import pandas as pd\n",
    "import nltk\n",
    "from nltk.corpus import stopwords\n",
    "import re\n",
    "from nltk.stem.porter import PorterStemmer\n",
    "from sklearn.feature_extraction.text import CountVectorizer\n",
    "from sklearn.model_selection import train_test_split\n",
    "from sklearn.naive_bayes import GaussianNB\n",
    "from sklearn.metrics import confusion_matrix"
   ]
  },
  {
   "cell_type": "markdown",
   "id": "cddb1a61",
   "metadata": {
    "papermill": {
     "duration": 0.004627,
     "end_time": "2023-10-09T07:23:13.453527",
     "exception": false,
     "start_time": "2023-10-09T07:23:13.448900",
     "status": "completed"
    },
    "tags": []
   },
   "source": [
    "**# Veriyi yükleyin**"
   ]
  },
  {
   "cell_type": "code",
   "execution_count": 3,
   "id": "fa6a0490",
   "metadata": {
    "execution": {
     "iopub.execute_input": "2023-10-09T07:23:13.465640Z",
     "iopub.status.busy": "2023-10-09T07:23:13.465238Z",
     "iopub.status.idle": "2023-10-09T07:23:13.488640Z",
     "shell.execute_reply": "2023-10-09T07:23:13.487348Z"
    },
    "papermill": {
     "duration": 0.032761,
     "end_time": "2023-10-09T07:23:13.491688",
     "exception": false,
     "start_time": "2023-10-09T07:23:13.458927",
     "status": "completed"
    },
    "tags": []
   },
   "outputs": [],
   "source": [
    "yorumlar=pd.read_csv(\"/kaggle/input/yelp-reviews/Restaurant_Reviews_Preprocessed.csv\")\n",
    "puan = yorumlar.iloc[:, 1]"
   ]
  },
  {
   "cell_type": "markdown",
   "id": "661fd604",
   "metadata": {
    "papermill": {
     "duration": 0.004275,
     "end_time": "2023-10-09T07:23:13.500726",
     "exception": false,
     "start_time": "2023-10-09T07:23:13.496451",
     "status": "completed"
    },
    "tags": []
   },
   "source": [
    "**# Porter Stemmer'ı ve stopwords'ları hazırlayın**"
   ]
  },
  {
   "cell_type": "code",
   "execution_count": 4,
   "id": "fb11d69d",
   "metadata": {
    "execution": {
     "iopub.execute_input": "2023-10-09T07:23:13.513144Z",
     "iopub.status.busy": "2023-10-09T07:23:13.512778Z",
     "iopub.status.idle": "2023-10-09T07:23:13.735886Z",
     "shell.execute_reply": "2023-10-09T07:23:13.734529Z"
    },
    "papermill": {
     "duration": 0.232636,
     "end_time": "2023-10-09T07:23:13.738831",
     "exception": false,
     "start_time": "2023-10-09T07:23:13.506195",
     "status": "completed"
    },
    "tags": []
   },
   "outputs": [
    {
     "name": "stdout",
     "output_type": "stream",
     "text": [
      "[nltk_data] Downloading package stopwords to /usr/share/nltk_data...\n",
      "[nltk_data]   Package stopwords is already up-to-date!\n"
     ]
    },
    {
     "data": {
      "text/plain": [
       "True"
      ]
     },
     "execution_count": 4,
     "metadata": {},
     "output_type": "execute_result"
    }
   ],
   "source": [
    "ps = PorterStemmer()\n",
    "nltk.download(\"stopwords\")"
   ]
  },
  {
   "cell_type": "markdown",
   "id": "eb325e47",
   "metadata": {
    "papermill": {
     "duration": 0.005216,
     "end_time": "2023-10-09T07:23:13.749102",
     "exception": false,
     "start_time": "2023-10-09T07:23:13.743886",
     "status": "completed"
    },
    "tags": []
   },
   "source": [
    "**# Veriyi ön işleme yapın ve derlem oluşturun**"
   ]
  },
  {
   "cell_type": "code",
   "execution_count": 5,
   "id": "e75dbae9",
   "metadata": {
    "execution": {
     "iopub.execute_input": "2023-10-09T07:23:13.760959Z",
     "iopub.status.busy": "2023-10-09T07:23:13.760522Z",
     "iopub.status.idle": "2023-10-09T07:23:14.944401Z",
     "shell.execute_reply": "2023-10-09T07:23:14.943313Z"
    },
    "papermill": {
     "duration": 1.1931,
     "end_time": "2023-10-09T07:23:14.947142",
     "exception": false,
     "start_time": "2023-10-09T07:23:13.754042",
     "status": "completed"
    },
    "tags": []
   },
   "outputs": [],
   "source": [
    "derlem = []\n",
    "for i in range(len(yorumlar)):\n",
    "    yorum = re.sub('[^a-zA-Z]', ' ', yorumlar['Review'][i])\n",
    "    yorum = yorum.lower()\n",
    "    yorum = yorum.split()\n",
    "    yorum = [ps.stem(kelime) for kelime in yorum if not kelime in set(stopwords.words(\"english\"))]\n",
    "    yorum = \" \".join(yorum)\n",
    "    derlem.append(yorum)"
   ]
  },
  {
   "cell_type": "markdown",
   "id": "147e4cae",
   "metadata": {
    "papermill": {
     "duration": 0.004645,
     "end_time": "2023-10-09T07:23:14.956712",
     "exception": false,
     "start_time": "2023-10-09T07:23:14.952067",
     "status": "completed"
    },
    "tags": []
   },
   "source": [
    "**# Kelimeleri vektörize edin**"
   ]
  },
  {
   "cell_type": "code",
   "execution_count": 6,
   "id": "bcdb8418",
   "metadata": {
    "execution": {
     "iopub.execute_input": "2023-10-09T07:23:14.969059Z",
     "iopub.status.busy": "2023-10-09T07:23:14.968000Z",
     "iopub.status.idle": "2023-10-09T07:23:15.010310Z",
     "shell.execute_reply": "2023-10-09T07:23:15.008760Z"
    },
    "papermill": {
     "duration": 0.051499,
     "end_time": "2023-10-09T07:23:15.013150",
     "exception": false,
     "start_time": "2023-10-09T07:23:14.961651",
     "status": "completed"
    },
    "tags": []
   },
   "outputs": [],
   "source": [
    "cv = CountVectorizer(max_features=1500)\n",
    "x = cv.fit_transform(derlem).toarray()\n",
    "y = yorumlar.iloc[:, 1].values"
   ]
  },
  {
   "cell_type": "markdown",
   "id": "1d4af3fd",
   "metadata": {
    "papermill": {
     "duration": 0.00465,
     "end_time": "2023-10-09T07:23:15.022812",
     "exception": false,
     "start_time": "2023-10-09T07:23:15.018162",
     "status": "completed"
    },
    "tags": []
   },
   "source": [
    "**# Veriyi eğitim ve test kümelerine ayırın**"
   ]
  },
  {
   "cell_type": "code",
   "execution_count": 7,
   "id": "2eac9bd3",
   "metadata": {
    "execution": {
     "iopub.execute_input": "2023-10-09T07:23:15.034966Z",
     "iopub.status.busy": "2023-10-09T07:23:15.034560Z",
     "iopub.status.idle": "2023-10-09T07:23:15.049434Z",
     "shell.execute_reply": "2023-10-09T07:23:15.047934Z"
    },
    "papermill": {
     "duration": 0.024601,
     "end_time": "2023-10-09T07:23:15.052203",
     "exception": false,
     "start_time": "2023-10-09T07:23:15.027602",
     "status": "completed"
    },
    "tags": []
   },
   "outputs": [],
   "source": [
    "X_train, X_test, y_train, y_test = train_test_split(x, y, test_size=0.20, random_state=0)\n"
   ]
  },
  {
   "cell_type": "markdown",
   "id": "76f13667",
   "metadata": {
    "papermill": {
     "duration": 0.004584,
     "end_time": "2023-10-09T07:23:15.061710",
     "exception": false,
     "start_time": "2023-10-09T07:23:15.057126",
     "status": "completed"
    },
    "tags": []
   },
   "source": [
    "**# Gaussian Naive Bayes modelini oluşturun ve eğitin**"
   ]
  },
  {
   "cell_type": "code",
   "execution_count": 8,
   "id": "a18f30a9",
   "metadata": {
    "execution": {
     "iopub.execute_input": "2023-10-09T07:23:15.074768Z",
     "iopub.status.busy": "2023-10-09T07:23:15.074400Z",
     "iopub.status.idle": "2023-10-09T07:23:15.117928Z",
     "shell.execute_reply": "2023-10-09T07:23:15.116558Z"
    },
    "papermill": {
     "duration": 0.053036,
     "end_time": "2023-10-09T07:23:15.120529",
     "exception": false,
     "start_time": "2023-10-09T07:23:15.067493",
     "status": "completed"
    },
    "tags": []
   },
   "outputs": [
    {
     "data": {
      "text/html": [
       "<style>#sk-container-id-1 {color: black;background-color: white;}#sk-container-id-1 pre{padding: 0;}#sk-container-id-1 div.sk-toggleable {background-color: white;}#sk-container-id-1 label.sk-toggleable__label {cursor: pointer;display: block;width: 100%;margin-bottom: 0;padding: 0.3em;box-sizing: border-box;text-align: center;}#sk-container-id-1 label.sk-toggleable__label-arrow:before {content: \"▸\";float: left;margin-right: 0.25em;color: #696969;}#sk-container-id-1 label.sk-toggleable__label-arrow:hover:before {color: black;}#sk-container-id-1 div.sk-estimator:hover label.sk-toggleable__label-arrow:before {color: black;}#sk-container-id-1 div.sk-toggleable__content {max-height: 0;max-width: 0;overflow: hidden;text-align: left;background-color: #f0f8ff;}#sk-container-id-1 div.sk-toggleable__content pre {margin: 0.2em;color: black;border-radius: 0.25em;background-color: #f0f8ff;}#sk-container-id-1 input.sk-toggleable__control:checked~div.sk-toggleable__content {max-height: 200px;max-width: 100%;overflow: auto;}#sk-container-id-1 input.sk-toggleable__control:checked~label.sk-toggleable__label-arrow:before {content: \"▾\";}#sk-container-id-1 div.sk-estimator input.sk-toggleable__control:checked~label.sk-toggleable__label {background-color: #d4ebff;}#sk-container-id-1 div.sk-label input.sk-toggleable__control:checked~label.sk-toggleable__label {background-color: #d4ebff;}#sk-container-id-1 input.sk-hidden--visually {border: 0;clip: rect(1px 1px 1px 1px);clip: rect(1px, 1px, 1px, 1px);height: 1px;margin: -1px;overflow: hidden;padding: 0;position: absolute;width: 1px;}#sk-container-id-1 div.sk-estimator {font-family: monospace;background-color: #f0f8ff;border: 1px dotted black;border-radius: 0.25em;box-sizing: border-box;margin-bottom: 0.5em;}#sk-container-id-1 div.sk-estimator:hover {background-color: #d4ebff;}#sk-container-id-1 div.sk-parallel-item::after {content: \"\";width: 100%;border-bottom: 1px solid gray;flex-grow: 1;}#sk-container-id-1 div.sk-label:hover label.sk-toggleable__label {background-color: #d4ebff;}#sk-container-id-1 div.sk-serial::before {content: \"\";position: absolute;border-left: 1px solid gray;box-sizing: border-box;top: 0;bottom: 0;left: 50%;z-index: 0;}#sk-container-id-1 div.sk-serial {display: flex;flex-direction: column;align-items: center;background-color: white;padding-right: 0.2em;padding-left: 0.2em;position: relative;}#sk-container-id-1 div.sk-item {position: relative;z-index: 1;}#sk-container-id-1 div.sk-parallel {display: flex;align-items: stretch;justify-content: center;background-color: white;position: relative;}#sk-container-id-1 div.sk-item::before, #sk-container-id-1 div.sk-parallel-item::before {content: \"\";position: absolute;border-left: 1px solid gray;box-sizing: border-box;top: 0;bottom: 0;left: 50%;z-index: -1;}#sk-container-id-1 div.sk-parallel-item {display: flex;flex-direction: column;z-index: 1;position: relative;background-color: white;}#sk-container-id-1 div.sk-parallel-item:first-child::after {align-self: flex-end;width: 50%;}#sk-container-id-1 div.sk-parallel-item:last-child::after {align-self: flex-start;width: 50%;}#sk-container-id-1 div.sk-parallel-item:only-child::after {width: 0;}#sk-container-id-1 div.sk-dashed-wrapped {border: 1px dashed gray;margin: 0 0.4em 0.5em 0.4em;box-sizing: border-box;padding-bottom: 0.4em;background-color: white;}#sk-container-id-1 div.sk-label label {font-family: monospace;font-weight: bold;display: inline-block;line-height: 1.2em;}#sk-container-id-1 div.sk-label-container {text-align: center;}#sk-container-id-1 div.sk-container {/* jupyter's `normalize.less` sets `[hidden] { display: none; }` but bootstrap.min.css set `[hidden] { display: none !important; }` so we also need the `!important` here to be able to override the default hidden behavior on the sphinx rendered scikit-learn.org. See: https://github.com/scikit-learn/scikit-learn/issues/21755 */display: inline-block !important;position: relative;}#sk-container-id-1 div.sk-text-repr-fallback {display: none;}</style><div id=\"sk-container-id-1\" class=\"sk-top-container\"><div class=\"sk-text-repr-fallback\"><pre>GaussianNB()</pre><b>In a Jupyter environment, please rerun this cell to show the HTML representation or trust the notebook. <br />On GitHub, the HTML representation is unable to render, please try loading this page with nbviewer.org.</b></div><div class=\"sk-container\" hidden><div class=\"sk-item\"><div class=\"sk-estimator sk-toggleable\"><input class=\"sk-toggleable__control sk-hidden--visually\" id=\"sk-estimator-id-1\" type=\"checkbox\" checked><label for=\"sk-estimator-id-1\" class=\"sk-toggleable__label sk-toggleable__label-arrow\">GaussianNB</label><div class=\"sk-toggleable__content\"><pre>GaussianNB()</pre></div></div></div></div></div>"
      ],
      "text/plain": [
       "GaussianNB()"
      ]
     },
     "execution_count": 8,
     "metadata": {},
     "output_type": "execute_result"
    }
   ],
   "source": [
    "gnb = GaussianNB()\n",
    "gnb.fit(X_train, y_train)"
   ]
  },
  {
   "cell_type": "markdown",
   "id": "9aa24d8a",
   "metadata": {
    "papermill": {
     "duration": 0.004237,
     "end_time": "2023-10-09T07:23:15.129612",
     "exception": false,
     "start_time": "2023-10-09T07:23:15.125375",
     "status": "completed"
    },
    "tags": []
   },
   "source": [
    "**# Tahminleri yapın**"
   ]
  },
  {
   "cell_type": "code",
   "execution_count": 9,
   "id": "b4c0a763",
   "metadata": {
    "execution": {
     "iopub.execute_input": "2023-10-09T07:23:15.141612Z",
     "iopub.status.busy": "2023-10-09T07:23:15.141138Z",
     "iopub.status.idle": "2023-10-09T07:23:15.155235Z",
     "shell.execute_reply": "2023-10-09T07:23:15.153960Z"
    },
    "papermill": {
     "duration": 0.023626,
     "end_time": "2023-10-09T07:23:15.157920",
     "exception": false,
     "start_time": "2023-10-09T07:23:15.134294",
     "status": "completed"
    },
    "tags": []
   },
   "outputs": [],
   "source": [
    "y_pred = gnb.predict(X_test)"
   ]
  },
  {
   "cell_type": "markdown",
   "id": "9cd70986",
   "metadata": {
    "papermill": {
     "duration": 0.005112,
     "end_time": "2023-10-09T07:23:15.168033",
     "exception": false,
     "start_time": "2023-10-09T07:23:15.162921",
     "status": "completed"
    },
    "tags": []
   },
   "source": [
    "**# Karmaşıklık matrisini hesaplayın**"
   ]
  },
  {
   "cell_type": "code",
   "execution_count": 10,
   "id": "ff24d865",
   "metadata": {
    "execution": {
     "iopub.execute_input": "2023-10-09T07:23:15.180160Z",
     "iopub.status.busy": "2023-10-09T07:23:15.179682Z",
     "iopub.status.idle": "2023-10-09T07:23:15.186750Z",
     "shell.execute_reply": "2023-10-09T07:23:15.185938Z"
    },
    "papermill": {
     "duration": 0.016048,
     "end_time": "2023-10-09T07:23:15.189043",
     "exception": false,
     "start_time": "2023-10-09T07:23:15.172995",
     "status": "completed"
    },
    "tags": []
   },
   "outputs": [],
   "source": [
    "cm = confusion_matrix(y_test, y_pred)"
   ]
  },
  {
   "cell_type": "markdown",
   "id": "26923812",
   "metadata": {
    "papermill": {
     "duration": 0.004879,
     "end_time": "2023-10-09T07:23:15.200051",
     "exception": false,
     "start_time": "2023-10-09T07:23:15.195172",
     "status": "completed"
    },
    "tags": []
   },
   "source": [
    "**# Sonuçları yazdırın**"
   ]
  },
  {
   "cell_type": "code",
   "execution_count": 11,
   "id": "6990cc2e",
   "metadata": {
    "execution": {
     "iopub.execute_input": "2023-10-09T07:23:15.211883Z",
     "iopub.status.busy": "2023-10-09T07:23:15.211540Z",
     "iopub.status.idle": "2023-10-09T07:23:15.218250Z",
     "shell.execute_reply": "2023-10-09T07:23:15.216751Z"
    },
    "papermill": {
     "duration": 0.01578,
     "end_time": "2023-10-09T07:23:15.220954",
     "exception": false,
     "start_time": "2023-10-09T07:23:15.205174",
     "status": "completed"
    },
    "tags": []
   },
   "outputs": [
    {
     "name": "stdout",
     "output_type": "stream",
     "text": [
      "Confusion Matrix:\n",
      "[[46 49]\n",
      " [10 93]]\n"
     ]
    }
   ],
   "source": [
    "print(\"Confusion Matrix:\")\n",
    "print(cm)"
   ]
  }
 ],
 "metadata": {
  "kernelspec": {
   "display_name": "Python 3",
   "language": "python",
   "name": "python3"
  },
  "language_info": {
   "codemirror_mode": {
    "name": "ipython",
    "version": 3
   },
   "file_extension": ".py",
   "mimetype": "text/x-python",
   "name": "python",
   "nbconvert_exporter": "python",
   "pygments_lexer": "ipython3",
   "version": "3.10.12"
  },
  "papermill": {
   "default_parameters": {},
   "duration": 8.880703,
   "end_time": "2023-10-09T07:23:15.951348",
   "environment_variables": {},
   "exception": null,
   "input_path": "__notebook__.ipynb",
   "output_path": "__notebook__.ipynb",
   "parameters": {},
   "start_time": "2023-10-09T07:23:07.070645",
   "version": "2.4.0"
  }
 },
 "nbformat": 4,
 "nbformat_minor": 5
}
